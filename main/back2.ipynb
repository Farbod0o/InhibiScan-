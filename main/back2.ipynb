{
 "cells": [
  {
   "cell_type": "code",
   "id": "initial_id",
   "metadata": {
    "collapsed": true,
    "ExecuteTime": {
     "end_time": "2024-12-07T14:31:58.161025Z",
     "start_time": "2024-12-07T14:31:55.888439Z"
    }
   },
   "source": [
    "import cv2\n",
    "import numpy as np\n",
    "\n",
    "# 1. بارگذاری تصویر\n",
    "image = cv2.imread('Bacterial_lawn_01.jpg')\n",
    "gray = cv2.cvtColor(image, cv2.COLOR_BGR2GRAY)\n",
    "\n",
    "# 2. افزایش کنتراست و حذف نویز\n",
    "blurred = cv2.GaussianBlur(gray, (15, 15), 0)\n",
    "\n",
    "# 3. تنظیم پارامترهای Blob Detection\n",
    "params = cv2.SimpleBlobDetector_Params()\n",
    "params.filterByArea = True\n",
    "params.minArea = 1000\n",
    "params.filterByCircularity = False\n",
    "params.minCircularity = 0.1\n",
    "params.filterByInertia = True\n",
    "params.minInertiaRatio = 0.5\n",
    "\n",
    "# 4. شناسایی بلاب‌ها\n",
    "detector = cv2.SimpleBlobDetector_create(params)\n",
    "keypoints = detector.detect(blurred)\n",
    "\n",
    "# 5. رسم بلاب‌ها و گزارش اندازه‌ها\n",
    "output = cv2.drawKeypoints(image, keypoints, None, (0, 255, 0),\n",
    "                           cv2.DRAW_MATCHES_FLAGS_DRAW_RICH_KEYPOINTS)\n",
    "\n",
    "\n",
    "# 6. نمایش تصویر نهایی\n",
    "cv2.imshow('Hale Detection', output)\n",
    "cv2.waitKey(0)\n",
    "cv2.destroyAllWindows()\n"
   ],
   "outputs": [],
   "execution_count": 1
  },
  {
   "metadata": {},
   "cell_type": "code",
   "outputs": [],
   "execution_count": null,
   "source": "",
   "id": "de448962d763c5dd"
  }
 ],
 "metadata": {
  "kernelspec": {
   "display_name": "Python 3",
   "language": "python",
   "name": "python3"
  },
  "language_info": {
   "codemirror_mode": {
    "name": "ipython",
    "version": 2
   },
   "file_extension": ".py",
   "mimetype": "text/x-python",
   "name": "python",
   "nbconvert_exporter": "python",
   "pygments_lexer": "ipython2",
   "version": "2.7.6"
  }
 },
 "nbformat": 4,
 "nbformat_minor": 5
}
