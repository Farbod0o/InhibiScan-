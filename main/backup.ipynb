{
 "cells": [
  {
   "cell_type": "code",
   "execution_count": null,
   "id": "initial_id",
   "metadata": {
    "collapsed": true
   },
   "outputs": [],
   "source": [
    ""
   ]
  },
  {
   "metadata": {
    "ExecuteTime": {
     "end_time": "2024-12-07T14:31:27.776071Z",
     "start_time": "2024-12-07T14:31:27.180047Z"
    }
   },
   "cell_type": "code",
   "source": [
    "import time\n",
    "import cv2\n",
    "import numpy as np\n",
    "\n",
    "image = cv2.imread('r3.jpg')\n",
    "gray = cv2.cvtColor(image, cv2.COLOR_BGR2GRAY)\n",
    "\n",
    "blurred = cv2.GaussianBlur(gray, (5, 5), 0)\n",
    "_, threshold = cv2.threshold(blurred, 100, 255, cv2.THRESH_BINARY_INV)\n",
    "cv2.imshow('Gray', threshold)\n",
    "contours, _ = cv2.findContours(threshold, cv2.RETR_EXTERNAL, cv2.CHAIN_APPROX_SIMPLE)\n",
    "\n",
    "\n",
    "hsv = cv2.cvtColor(image, cv2.COLOR_BGR2HSV)\n",
    "lower_white = np.array([0, 0, 200])  # Adjust values based on your image\n",
    "upper_white = np.array([180, 50, 255])\n",
    "mask = cv2.inRange(hsv, lower_white, upper_white)\n",
    "pill_contours, _ = cv2.findContours(mask, cv2.RETR_EXTERNAL, cv2.CHAIN_APPROX_SIMPLE)\n",
    "\n",
    "\n",
    "for contour in contours:\n",
    "\n",
    "    (x, y), radius = cv2.minEnclosingCircle(contour)\n",
    "    center = (int(x), int(y))\n",
    "    radius = int(radius)\n",
    "    \n",
    "    if radius > 30 and radius < 200:\n",
    "\n",
    "        area = cv2.contourArea(contour)\n",
    "        perimeter = cv2.arcLength(contour, True)\n",
    "        circularity = (4 * np.pi * area) / (perimeter ** 2)\n",
    "        if circularity > 0.1:\n",
    "            cv2.circle(image, center, radius, (0, 255, 0), 2)\n",
    "            cv2.drawContours(image, [contour], 0, (0, 255, 0), 2)\n",
    "            cv2.putText(image, f\"Radius:{radius} pixels\", (int(x), int(y)),cv2.FONT_HERSHEY_DUPLEX, 0.6, (0, 0, 255), 1, cv2.LINE_AA)\n",
    "            cv2.putText(image, f\"Circularity:{circularity*100:.2f}%\", (int(x), int(y+20)),cv2.FONT_HERSHEY_DUPLEX, 0.6, (0, 0, 255), 1, cv2.LINE_AA)\n",
    "            \n",
    "        \n",
    "            check = True\n",
    "            final_dist = 1000\n",
    "            final_center = 0\n",
    "            final_radius = 0\n",
    "            for pill in pill_contours:\n",
    "                (px, py), pill_radius = cv2.minEnclosingCircle(pill)\n",
    "                if pill_radius > 15 and pill_radius < 25:\n",
    "                    pill_center = (int(px), int(py))\n",
    "                    pill_radius = int(pill_radius)\n",
    "                    \n",
    "                    distance = np.sqrt((x - px) ** 2 + (y - py) ** 2)\n",
    "                    if distance < final_dist:\n",
    "                        final_dist = distance\n",
    "                        final_center = pill_center\n",
    "                        final_radius = pill_radius\n",
    "                        \n",
    "            print(final_dist, radius * 0.1)            \n",
    "            if final_dist < radius * 0.1:\n",
    "                cv2.circle(image, final_center, final_radius, (255, 0, 0), 2)\n",
    "                cv2.putText(image, \"Pill\", (int(px), int(py)),\n",
    "                            cv2.FONT_HERSHEY_DUPLEX, 0.6, (255, 0, 0), 1, cv2.LINE_AA)\n",
    "            else:\n",
    "                if check:\n",
    "                    cv2.circle(image, final_center, final_radius, (255, 0, 0), 2)\n",
    "                    cv2.putText(image, f\"Misaligned Pill\", (int(x), int(y)+40),\n",
    "                                cv2.FONT_HERSHEY_DUPLEX, 0.6, (0, 0, 255), 1, cv2.LINE_AA)\n",
    "                    cv2.putText(image, f\"({final_dist:.2f})\", (int(x), int(y)+60),\n",
    "                                cv2.FONT_HERSHEY_DUPLEX, 0.6, (0, 0, 255), 1, cv2.LINE_AA)\n",
    "                    check = False\n",
    "\n",
    "cv2.imshow('Result', image)\n",
    "cv2.imwrite(\"result.jpg\", image)\n",
    "cv2.waitKey(0)\n",
    "cv2.destroyAllWindows()\n"
   ],
   "id": "43ca2eab20f4fa86",
   "outputs": [
    {
     "name": "stdout",
     "output_type": "stream",
     "text": [
      "1000 3.4000000000000004\n"
     ]
    },
    {
     "ename": "error",
     "evalue": "OpenCV(4.10.0) :-1: error: (-5:Bad argument) in function 'circle'\n> Overload resolution failed:\n>  - Can't parse 'center'. Input argument doesn't provide sequence protocol\n>  - Can't parse 'center'. Input argument doesn't provide sequence protocol\n",
     "output_type": "error",
     "traceback": [
      "\u001B[1;31m---------------------------------------------------------------------------\u001B[0m",
      "\u001B[1;31merror\u001B[0m                                     Traceback (most recent call last)",
      "Cell \u001B[1;32mIn[1], line 62\u001B[0m\n\u001B[0;32m     60\u001B[0m \u001B[38;5;28;01melse\u001B[39;00m:\n\u001B[0;32m     61\u001B[0m     \u001B[38;5;28;01mif\u001B[39;00m check:\n\u001B[1;32m---> 62\u001B[0m         \u001B[43mcv2\u001B[49m\u001B[38;5;241;43m.\u001B[39;49m\u001B[43mcircle\u001B[49m\u001B[43m(\u001B[49m\u001B[43mimage\u001B[49m\u001B[43m,\u001B[49m\u001B[43m \u001B[49m\u001B[43mfinal_center\u001B[49m\u001B[43m,\u001B[49m\u001B[43m \u001B[49m\u001B[43mfinal_radius\u001B[49m\u001B[43m,\u001B[49m\u001B[43m \u001B[49m\u001B[43m(\u001B[49m\u001B[38;5;241;43m255\u001B[39;49m\u001B[43m,\u001B[49m\u001B[43m \u001B[49m\u001B[38;5;241;43m0\u001B[39;49m\u001B[43m,\u001B[49m\u001B[43m \u001B[49m\u001B[38;5;241;43m0\u001B[39;49m\u001B[43m)\u001B[49m\u001B[43m,\u001B[49m\u001B[43m \u001B[49m\u001B[38;5;241;43m2\u001B[39;49m\u001B[43m)\u001B[49m\n\u001B[0;32m     63\u001B[0m         cv2\u001B[38;5;241m.\u001B[39mputText(image, \u001B[38;5;124mf\u001B[39m\u001B[38;5;124m\"\u001B[39m\u001B[38;5;124mMisaligned Pill\u001B[39m\u001B[38;5;124m\"\u001B[39m, (\u001B[38;5;28mint\u001B[39m(x), \u001B[38;5;28mint\u001B[39m(y)\u001B[38;5;241m+\u001B[39m\u001B[38;5;241m40\u001B[39m),\n\u001B[0;32m     64\u001B[0m                     cv2\u001B[38;5;241m.\u001B[39mFONT_HERSHEY_DUPLEX, \u001B[38;5;241m0.6\u001B[39m, (\u001B[38;5;241m0\u001B[39m, \u001B[38;5;241m0\u001B[39m, \u001B[38;5;241m255\u001B[39m), \u001B[38;5;241m1\u001B[39m, cv2\u001B[38;5;241m.\u001B[39mLINE_AA)\n\u001B[0;32m     65\u001B[0m         cv2\u001B[38;5;241m.\u001B[39mputText(image, \u001B[38;5;124mf\u001B[39m\u001B[38;5;124m\"\u001B[39m\u001B[38;5;124m(\u001B[39m\u001B[38;5;132;01m{\u001B[39;00mfinal_dist\u001B[38;5;132;01m:\u001B[39;00m\u001B[38;5;124m.2f\u001B[39m\u001B[38;5;132;01m}\u001B[39;00m\u001B[38;5;124m)\u001B[39m\u001B[38;5;124m\"\u001B[39m, (\u001B[38;5;28mint\u001B[39m(x), \u001B[38;5;28mint\u001B[39m(y)\u001B[38;5;241m+\u001B[39m\u001B[38;5;241m60\u001B[39m),\n\u001B[0;32m     66\u001B[0m                     cv2\u001B[38;5;241m.\u001B[39mFONT_HERSHEY_DUPLEX, \u001B[38;5;241m0.6\u001B[39m, (\u001B[38;5;241m0\u001B[39m, \u001B[38;5;241m0\u001B[39m, \u001B[38;5;241m255\u001B[39m), \u001B[38;5;241m1\u001B[39m, cv2\u001B[38;5;241m.\u001B[39mLINE_AA)\n",
      "\u001B[1;31merror\u001B[0m: OpenCV(4.10.0) :-1: error: (-5:Bad argument) in function 'circle'\n> Overload resolution failed:\n>  - Can't parse 'center'. Input argument doesn't provide sequence protocol\n>  - Can't parse 'center'. Input argument doesn't provide sequence protocol\n"
     ]
    }
   ],
   "execution_count": 1
  },
  {
   "metadata": {},
   "cell_type": "code",
   "outputs": [],
   "execution_count": null,
   "source": "",
   "id": "7029f08a60288184"
  }
 ],
 "metadata": {
  "kernelspec": {
   "display_name": "Python 3",
   "language": "python",
   "name": "python3"
  },
  "language_info": {
   "codemirror_mode": {
    "name": "ipython",
    "version": 2
   },
   "file_extension": ".py",
   "mimetype": "text/x-python",
   "name": "python",
   "nbconvert_exporter": "python",
   "pygments_lexer": "ipython2",
   "version": "2.7.6"
  }
 },
 "nbformat": 4,
 "nbformat_minor": 5
}
