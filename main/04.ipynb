{
 "cells": [
  {
   "cell_type": "code",
   "id": "initial_id",
   "metadata": {
    "collapsed": true,
    "ExecuteTime": {
     "end_time": "2024-11-25T20:25:44.003292Z",
     "start_time": "2024-11-25T20:25:44.000008Z"
    }
   },
   "source": [
    ""
   ],
   "outputs": [],
   "execution_count": null
  },
  {
   "metadata": {
    "ExecuteTime": {
     "end_time": "2024-12-07T14:32:13.977501Z",
     "start_time": "2024-12-07T14:32:06.701859Z"
    }
   },
   "cell_type": "code",
   "source": [
    "import cv2\n",
    "import numpy as np\n",
    "\n",
    "# Load the image\n",
    "image = cv2.imread('r3.jpg')\n",
    "original = image.copy()\n",
    "\n",
    "# Convert to grayscale\n",
    "gray = cv2.cvtColor(image, cv2.COLOR_BGR2GRAY)\n",
    "\n",
    "# Apply Gaussian Blur\n",
    "blurred = cv2.GaussianBlur(gray, (5, 5), 0)\n",
    "\n",
    "# Thresholding to detect zones of inhibition\n",
    "_, threshold = cv2.threshold(blurred, 170, 255, cv2.THRESH_BINARY_INV)\n",
    "cv2.imshow('original', threshold)\n",
    "cv2.imwrite('threshold.jpg', threshold)\n",
    "# Morphological operations to refine the mask\n",
    "kernel = cv2.getStructuringElement(cv2.MORPH_ELLIPSE, (3, 3))\n",
    "morph = cv2.morphologyEx(threshold, cv2.MORPH_CLOSE, kernel, iterations=2)\n",
    "\n",
    "# Distance transform for better separation of overlapping zones\n",
    "dist_transform = cv2.distanceTransform(morph, cv2.DIST_L2, 5)\n",
    "_, sure_fg = cv2.threshold(dist_transform, 0.7 * dist_transform.max(), 255, 0)\n",
    "\n",
    "# Sure background by dilation\n",
    "sure_bg = cv2.dilate(morph, kernel, iterations=3)\n",
    "\n",
    "# Subtract unknown regions\n",
    "sure_fg = np.uint8(sure_fg)\n",
    "unknown = cv2.subtract(sure_bg, sure_fg)\n",
    "\n",
    "# Markers for watershed\n",
    "_, markers = cv2.connectedComponents(sure_fg)\n",
    "markers = markers + 1\n",
    "markers[unknown == 255] = 0\n",
    "\n",
    "# Apply the watershed algorithm\n",
    "markers = cv2.watershed(image, markers)\n",
    "image[markers == -1] = [0, 0, 255]  # Mark boundaries in red\n",
    "\n",
    "# Detect antibiotic discs using HSV\n",
    "hsv = cv2.cvtColor(original, cv2.COLOR_BGR2HSV)\n",
    "lower_yellow = np.array([20, 100, 100])  # Adjust for yellow range\n",
    "upper_yellow = np.array([30, 255, 255])\n",
    "mask = cv2.inRange(hsv, lower_yellow, upper_yellow)\n",
    "\n",
    "# Find contours of antibiotic discs\n",
    "pill_contours, _ = cv2.findContours(mask, cv2.RETR_EXTERNAL, cv2.CHAIN_APPROX_SIMPLE)\n",
    "\n",
    "# Annotate zones of inhibition\n",
    "for label in range(2, np.max(markers) + 1):  # Skip background and unknown\n",
    "    zone_mask = (markers == label).astype(np.uint8) * 255\n",
    "    cnts, _ = cv2.findContours(zone_mask, cv2.RETR_EXTERNAL, cv2.CHAIN_APPROX_SIMPLE)\n",
    "    for cnt in cnts:\n",
    "        (x, y), radius = cv2.minEnclosingCircle(cnt)\n",
    "        center = (int(x), int(y))\n",
    "        radius = int(radius)\n",
    "        if radius > 10:\n",
    "            cv2.circle(original, center, radius, (0, 255, 0), 2)\n",
    "            cv2.putText(original, f\"Zone {label-1}\", (center[0] - 20, center[1] - 10),\n",
    "                        cv2.FONT_HERSHEY_SIMPLEX, 0.5, (0, 255, 0), 1)\n",
    "\n",
    "# Annotate discs\n",
    "for pill in pill_contours:\n",
    "    (px, py), pill_radius = cv2.minEnclosingCircle(pill)\n",
    "    pill_center = (int(px), int(py))\n",
    "    pill_radius = int(pill_radius)\n",
    "    cv2.circle(original, pill_center, pill_radius, (255, 0, 0), 2)\n",
    "    cv2.putText(original, \"Disc\", (pill_center[0] - 20, pill_center[1] - 10),\n",
    "                cv2.FONT_HERSHEY_SIMPLEX, 0.5, (255, 0, 0), 1)\n",
    "\n",
    "# Save and display the result\n",
    "cv2.imwrite('result_advanced.jpg', original)\n",
    "cv2.imshow(\"Result\", original)\n",
    "cv2.waitKey(0)\n",
    "cv2.destroyAllWindows()\n"
   ],
   "id": "2ad44fb012803ab0",
   "outputs": [],
   "execution_count": 1
  },
  {
   "metadata": {},
   "cell_type": "code",
   "outputs": [],
   "execution_count": null,
   "source": "",
   "id": "cf1dfc32618a8f38"
  }
 ],
 "metadata": {
  "kernelspec": {
   "display_name": "Python 3",
   "language": "python",
   "name": "python3"
  },
  "language_info": {
   "codemirror_mode": {
    "name": "ipython",
    "version": 2
   },
   "file_extension": ".py",
   "mimetype": "text/x-python",
   "name": "python",
   "nbconvert_exporter": "python",
   "pygments_lexer": "ipython2",
   "version": "2.7.6"
  }
 },
 "nbformat": 4,
 "nbformat_minor": 5
}
