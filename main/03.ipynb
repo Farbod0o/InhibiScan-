{
 "cells": [
  {
   "cell_type": "code",
   "execution_count": null,
   "id": "initial_id",
   "metadata": {
    "collapsed": true
   },
   "outputs": [],
   "source": [
    ""
   ]
  },
  {
   "metadata": {
    "ExecuteTime": {
     "end_time": "2024-12-07T14:32:25.323282Z",
     "start_time": "2024-12-07T14:32:20.649794Z"
    }
   },
   "cell_type": "code",
   "source": [
    "import cv2\n",
    "import numpy as np\n",
    "\n",
    "# بارگذاری تصویر (در حالت خاکستری)\n",
    "image = cv2.imread('Bacterial_lawn_01.jpg')\n",
    "gray = cv2.cvtColor(image, cv2.COLOR_BGR2GRAY)\n",
    "blurred = cv2.GaussianBlur(gray, (5, 5), 0)\n",
    "# اعمال آستانه‌گذاری (برای شناسایی لبه‌ها)\n",
    "_, thresh = cv2.threshold(blurred, 127, 255, cv2.THRESH_BINARY)\n",
    "\n",
    "# پیدا کردن کانتورها\n",
    "contours, hierarchy = cv2.findContours(thresh, cv2.RETR_TREE, cv2.CHAIN_APPROX_SIMPLE)\n",
    "\n",
    "# تبدیل تصویر اصلی به رنگی (برای رسم کانتورها)\n",
    "image_color = image\n",
    "\n",
    "# رسم کانتورها\n",
    "cv2.drawContours(image_color, contours, -1, (0, 255, 0), 2)  # رنگ سبز، ضخامت 2\n",
    "\n",
    "# نمایش تصویر\n",
    "cv2.imshow('Contours', image_color)\n",
    "cv2.waitKey(0)\n",
    "cv2.destroyAllWindows()\n"
   ],
   "id": "6f3785a8fd5fcdbc",
   "outputs": [],
   "execution_count": 1
  },
  {
   "metadata": {},
   "cell_type": "code",
   "outputs": [],
   "execution_count": null,
   "source": "",
   "id": "c08c8a7ae05a497d"
  }
 ],
 "metadata": {
  "kernelspec": {
   "display_name": "Python 3",
   "language": "python",
   "name": "python3"
  },
  "language_info": {
   "codemirror_mode": {
    "name": "ipython",
    "version": 2
   },
   "file_extension": ".py",
   "mimetype": "text/x-python",
   "name": "python",
   "nbconvert_exporter": "python",
   "pygments_lexer": "ipython2",
   "version": "2.7.6"
  }
 },
 "nbformat": 4,
 "nbformat_minor": 5
}
